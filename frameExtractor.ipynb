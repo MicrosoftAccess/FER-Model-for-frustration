{
 "cells": [
  {
   "cell_type": "code",
   "execution_count": 2,
   "metadata": {},
   "outputs": [
    {
     "ename": "ModuleNotFoundError",
     "evalue": "No module named 'cv2'",
     "output_type": "error",
     "traceback": [
      "\u001b[1;31m---------------------------------------------------------------------------\u001b[0m",
      "\u001b[1;31mModuleNotFoundError\u001b[0m                       Traceback (most recent call last)",
      "Cell \u001b[1;32mIn[2], line 1\u001b[0m\n\u001b[1;32m----> 1\u001b[0m \u001b[38;5;28;01mimport\u001b[39;00m \u001b[38;5;21;01mcv2\u001b[39;00m\n\u001b[0;32m      2\u001b[0m \u001b[38;5;28;01mimport\u001b[39;00m \u001b[38;5;21;01mos\u001b[39;00m\n\u001b[0;32m      5\u001b[0m path \u001b[38;5;241m=\u001b[39m os\u001b[38;5;241m.\u001b[39mlistdir(\u001b[38;5;124m'\u001b[39m\u001b[38;5;124mvids\u001b[39m\u001b[38;5;124m'\u001b[39m)\n",
      "\u001b[1;31mModuleNotFoundError\u001b[0m: No module named 'cv2'"
     ]
    }
   ],
   "source": [
    "import cv2\n",
    "import os\n",
    "\n",
    "\n",
    "path = os.listdir('vids')\n",
    "path\n",
    "cont=1\n",
    "for vid in path:\n",
    "    # Crear el directorio si no existe\n",
    "    directorio_frames = 'frames_v2/'+ vid[:-4]\n",
    "    vid_path = os.path.join(\"vids\",vid)\n",
    "    if not os.path.exists(directorio_frames):\n",
    "        os.makedirs(directorio_frames)\n",
    "    print(vid_path)\n",
    "    # Capturar el video\n",
    "    video = cv2.VideoCapture(vid_path)\n",
    "\n",
    "    # Verificar si se pudo abrir el video\n",
    "    if not video.isOpened():\n",
    "        print(\"Error al abrir el archivo de video\")\n",
    "        exit()\n",
    "\n",
    "    # Inicializar contador de frames\n",
    "    contador_frames = 0\n",
    "    # Inicializar contador de frames guardados\n",
    "    contador_guardados = 1\n",
    "\n",
    "    while True:\n",
    "        # Leer un frame del video\n",
    "        ret, frame = video.read()\n",
    "\n",
    "        # Si no se pudo leer el frame, salir del bucle\n",
    "        if not ret:\n",
    "            break\n",
    "\n",
    "        # Guardar solo cada 10 frames\n",
    "        if contador_frames % 10 == 0:\n",
    "            # Nombre del archivo del frame\n",
    "            nombre_frame = os.path.join(directorio_frames, f'{contador_guardados}.jpg')\n",
    "            # Guardar el frame como una imagen\n",
    "            cv2.imwrite(nombre_frame, frame)\n",
    "            # Incrementar el contador de frames guardados\n",
    "            contador_guardados += 1\n",
    "\n",
    "        # Incrementar el contador de frames\n",
    "        contador_frames += 1\n",
    "\n",
    "    print(cont,'/',len(path))\n",
    "    video.release()\n",
    "    cont+=1\n",
    "\n",
    "\n",
    "print(f'Extracción completada. Total de frames guardados: {contador_guardados}')"
   ]
  },
  {
   "cell_type": "code",
   "execution_count": 2,
   "metadata": {},
   "outputs": [
    {
     "name": "stdout",
     "output_type": "stream",
     "text": [
      "vids\\09_1_1-0.mp4\n",
      "1 / 6633\n",
      "vids\\09_1_1-10.mp4\n",
      "2 / 6633\n",
      "vids\\09_1_1-12.mp4\n",
      "3 / 6633\n",
      "vids\\09_1_1-14.mp4\n",
      "4 / 6633\n",
      "vids\\09_1_1-16.mp4\n",
      "5 / 6633\n",
      "vids\\09_1_1-18.mp4\n",
      "6 / 6633\n",
      "vids\\09_1_1-2.mp4\n",
      "7 / 6633\n",
      "vids\\09_1_1-20.mp4\n"
     ]
    },
    {
     "ename": "KeyboardInterrupt",
     "evalue": "",
     "output_type": "error",
     "traceback": [
      "\u001b[1;31m---------------------------------------------------------------------------\u001b[0m",
      "\u001b[1;31mKeyboardInterrupt\u001b[0m                         Traceback (most recent call last)",
      "Cell \u001b[1;32mIn[2], line 30\u001b[0m\n\u001b[0;32m     26\u001b[0m contador_guardados \u001b[38;5;241m=\u001b[39m \u001b[38;5;241m1\u001b[39m\n\u001b[0;32m     28\u001b[0m \u001b[38;5;28;01mwhile\u001b[39;00m \u001b[38;5;28;01mTrue\u001b[39;00m:\n\u001b[0;32m     29\u001b[0m     \u001b[38;5;66;03m# Leer un frame del video\u001b[39;00m\n\u001b[1;32m---> 30\u001b[0m     ret, frame \u001b[38;5;241m=\u001b[39m \u001b[43mvideo\u001b[49m\u001b[38;5;241;43m.\u001b[39;49m\u001b[43mread\u001b[49m\u001b[43m(\u001b[49m\u001b[43m)\u001b[49m\n\u001b[0;32m     32\u001b[0m     \u001b[38;5;66;03m# Si no se pudo leer el frame, salir del bucle\u001b[39;00m\n\u001b[0;32m     33\u001b[0m     \u001b[38;5;28;01mif\u001b[39;00m \u001b[38;5;129;01mnot\u001b[39;00m ret:\n",
      "\u001b[1;31mKeyboardInterrupt\u001b[0m: "
     ]
    },
    {
     "ename": "",
     "evalue": "",
     "output_type": "error",
     "traceback": [
      "\u001b[1;31mThe Kernel crashed while executing code in the current cell or a previous cell. \n",
      "\u001b[1;31mPlease review the code in the cell(s) to identify a possible cause of the failure. \n",
      "\u001b[1;31mClick <a href='https://aka.ms/vscodeJupyterKernelCrash'>here</a> for more info. \n",
      "\u001b[1;31mView Jupyter <a href='command:jupyter.viewOutput'>log</a> for further details."
     ]
    }
   ],
   "source": [
    "import cv2\n",
    "import os\n",
    "\n",
    "\n",
    "path = os.listdir('vids')\n",
    "path\n",
    "cont=1\n",
    "for vid in path:\n",
    "    # Crear el directorio si no existe\n",
    "    directorio_frames = 'frames_v3/'\n",
    "    vid_path = os.path.join(\"vids\",vid)\n",
    "    if not os.path.exists(directorio_frames):\n",
    "        os.makedirs(directorio_frames)\n",
    "    print(vid_path)\n",
    "    # Capturar el video\n",
    "    video = cv2.VideoCapture(vid_path)\n",
    "\n",
    "    # Verificar si se pudo abrir el video\n",
    "    if not video.isOpened():\n",
    "        print(\"Error al abrir el archivo de video\")\n",
    "        exit()\n",
    "\n",
    "    # Inicializar contador de frames\n",
    "    contador_frames = 0\n",
    "    # Inicializar contador de frames guardados\n",
    "    contador_guardados = 1\n",
    "\n",
    "    while True:\n",
    "        # Leer un frame del video\n",
    "        ret, frame = video.read()\n",
    "\n",
    "        # Si no se pudo leer el frame, salir del bucle\n",
    "        if not ret:\n",
    "            break\n",
    "\n",
    "        # Guardar solo cada 10 frames\n",
    "        if contador_frames % 10 == 0:\n",
    "            # Nombre del archivo del frame\n",
    "            nombre_frame = os.path.join(directorio_frames, f'{vid[:-4]}_{contador_guardados}.jpg')\n",
    "            # Guardar el frame como una imagen\n",
    "            cv2.imwrite(nombre_frame, frame)\n",
    "            # Incrementar el contador de frames guardados\n",
    "            contador_guardados += 1\n",
    "\n",
    "        # Incrementar el contador de frames\n",
    "        contador_frames += 1\n",
    "\n",
    "    print(cont,'/',len(path))\n",
    "    video.release()\n",
    "    cont+=1\n",
    "\n",
    "\n",
    "print(f'Extracción completada. Total de frames guardados: {contador_guardados}')"
   ]
  }
 ],
 "metadata": {
  "kernelspec": {
   "display_name": "Python 3",
   "language": "python",
   "name": "python3"
  },
  "language_info": {
   "codemirror_mode": {
    "name": "ipython",
    "version": 3
   },
   "file_extension": ".py",
   "mimetype": "text/x-python",
   "name": "python",
   "nbconvert_exporter": "python",
   "pygments_lexer": "ipython3",
   "version": "3.9.12"
  }
 },
 "nbformat": 4,
 "nbformat_minor": 2
}
